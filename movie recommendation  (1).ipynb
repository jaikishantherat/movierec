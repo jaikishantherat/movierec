{
 "cells": [
  {
   "cell_type": "code",
   "execution_count": 1,
   "id": "a422ba7e-d735-4313-80d9-66ffc682e7a1",
   "metadata": {},
   "outputs": [
    {
     "name": "stdout",
     "output_type": "stream",
     "text": [
      "Requirement already satisfied: tensorflow in c:\\users\\yukth\\anaconda3\\lib\\site-packages (2.18.0)\n",
      "Requirement already satisfied: tensorflow-intel==2.18.0 in c:\\users\\yukth\\anaconda3\\lib\\site-packages (from tensorflow) (2.18.0)\n",
      "Requirement already satisfied: absl-py>=1.0.0 in c:\\users\\yukth\\anaconda3\\lib\\site-packages (from tensorflow-intel==2.18.0->tensorflow) (2.1.0)\n",
      "Requirement already satisfied: astunparse>=1.6.0 in c:\\users\\yukth\\anaconda3\\lib\\site-packages (from tensorflow-intel==2.18.0->tensorflow) (1.6.3)\n",
      "Requirement already satisfied: flatbuffers>=24.3.25 in c:\\users\\yukth\\anaconda3\\lib\\site-packages (from tensorflow-intel==2.18.0->tensorflow) (24.3.25)\n",
      "Requirement already satisfied: gast!=0.5.0,!=0.5.1,!=0.5.2,>=0.2.1 in c:\\users\\yukth\\anaconda3\\lib\\site-packages (from tensorflow-intel==2.18.0->tensorflow) (0.6.0)\n",
      "Requirement already satisfied: google-pasta>=0.1.1 in c:\\users\\yukth\\anaconda3\\lib\\site-packages (from tensorflow-intel==2.18.0->tensorflow) (0.2.0)\n",
      "Requirement already satisfied: libclang>=13.0.0 in c:\\users\\yukth\\anaconda3\\lib\\site-packages (from tensorflow-intel==2.18.0->tensorflow) (18.1.1)\n",
      "Requirement already satisfied: opt-einsum>=2.3.2 in c:\\users\\yukth\\anaconda3\\lib\\site-packages (from tensorflow-intel==2.18.0->tensorflow) (3.4.0)\n",
      "Requirement already satisfied: packaging in c:\\users\\yukth\\anaconda3\\lib\\site-packages (from tensorflow-intel==2.18.0->tensorflow) (24.1)\n",
      "Requirement already satisfied: protobuf!=4.21.0,!=4.21.1,!=4.21.2,!=4.21.3,!=4.21.4,!=4.21.5,<6.0.0dev,>=3.20.3 in c:\\users\\yukth\\anaconda3\\lib\\site-packages (from tensorflow-intel==2.18.0->tensorflow) (4.25.3)\n",
      "Requirement already satisfied: requests<3,>=2.21.0 in c:\\users\\yukth\\anaconda3\\lib\\site-packages (from tensorflow-intel==2.18.0->tensorflow) (2.32.3)\n",
      "Requirement already satisfied: setuptools in c:\\users\\yukth\\anaconda3\\lib\\site-packages (from tensorflow-intel==2.18.0->tensorflow) (75.1.0)\n",
      "Requirement already satisfied: six>=1.12.0 in c:\\users\\yukth\\anaconda3\\lib\\site-packages (from tensorflow-intel==2.18.0->tensorflow) (1.16.0)\n",
      "Requirement already satisfied: termcolor>=1.1.0 in c:\\users\\yukth\\anaconda3\\lib\\site-packages (from tensorflow-intel==2.18.0->tensorflow) (2.5.0)\n",
      "Requirement already satisfied: typing-extensions>=3.6.6 in c:\\users\\yukth\\anaconda3\\lib\\site-packages (from tensorflow-intel==2.18.0->tensorflow) (4.11.0)\n",
      "Requirement already satisfied: wrapt>=1.11.0 in c:\\users\\yukth\\anaconda3\\lib\\site-packages (from tensorflow-intel==2.18.0->tensorflow) (1.14.1)\n",
      "Requirement already satisfied: grpcio<2.0,>=1.24.3 in c:\\users\\yukth\\anaconda3\\lib\\site-packages (from tensorflow-intel==2.18.0->tensorflow) (1.68.1)\n",
      "Requirement already satisfied: tensorboard<2.19,>=2.18 in c:\\users\\yukth\\anaconda3\\lib\\site-packages (from tensorflow-intel==2.18.0->tensorflow) (2.18.0)\n",
      "Requirement already satisfied: keras>=3.5.0 in c:\\users\\yukth\\anaconda3\\lib\\site-packages (from tensorflow-intel==2.18.0->tensorflow) (3.7.0)\n",
      "Requirement already satisfied: numpy<2.1.0,>=1.26.0 in c:\\users\\yukth\\anaconda3\\lib\\site-packages (from tensorflow-intel==2.18.0->tensorflow) (1.26.4)\n",
      "Requirement already satisfied: h5py>=3.11.0 in c:\\users\\yukth\\anaconda3\\lib\\site-packages (from tensorflow-intel==2.18.0->tensorflow) (3.11.0)\n",
      "Requirement already satisfied: ml-dtypes<0.5.0,>=0.4.0 in c:\\users\\yukth\\anaconda3\\lib\\site-packages (from tensorflow-intel==2.18.0->tensorflow) (0.4.1)\n",
      "Requirement already satisfied: wheel<1.0,>=0.23.0 in c:\\users\\yukth\\anaconda3\\lib\\site-packages (from astunparse>=1.6.0->tensorflow-intel==2.18.0->tensorflow) (0.44.0)\n",
      "Requirement already satisfied: rich in c:\\users\\yukth\\anaconda3\\lib\\site-packages (from keras>=3.5.0->tensorflow-intel==2.18.0->tensorflow) (13.7.1)\n",
      "Requirement already satisfied: namex in c:\\users\\yukth\\anaconda3\\lib\\site-packages (from keras>=3.5.0->tensorflow-intel==2.18.0->tensorflow) (0.0.8)\n",
      "Requirement already satisfied: optree in c:\\users\\yukth\\anaconda3\\lib\\site-packages (from keras>=3.5.0->tensorflow-intel==2.18.0->tensorflow) (0.13.1)\n",
      "Requirement already satisfied: charset-normalizer<4,>=2 in c:\\users\\yukth\\anaconda3\\lib\\site-packages (from requests<3,>=2.21.0->tensorflow-intel==2.18.0->tensorflow) (3.3.2)\n",
      "Requirement already satisfied: idna<4,>=2.5 in c:\\users\\yukth\\anaconda3\\lib\\site-packages (from requests<3,>=2.21.0->tensorflow-intel==2.18.0->tensorflow) (3.7)\n",
      "Requirement already satisfied: urllib3<3,>=1.21.1 in c:\\users\\yukth\\anaconda3\\lib\\site-packages (from requests<3,>=2.21.0->tensorflow-intel==2.18.0->tensorflow) (2.2.3)\n",
      "Requirement already satisfied: certifi>=2017.4.17 in c:\\users\\yukth\\anaconda3\\lib\\site-packages (from requests<3,>=2.21.0->tensorflow-intel==2.18.0->tensorflow) (2024.8.30)\n",
      "Requirement already satisfied: markdown>=2.6.8 in c:\\users\\yukth\\anaconda3\\lib\\site-packages (from tensorboard<2.19,>=2.18->tensorflow-intel==2.18.0->tensorflow) (3.4.1)\n",
      "Requirement already satisfied: tensorboard-data-server<0.8.0,>=0.7.0 in c:\\users\\yukth\\anaconda3\\lib\\site-packages (from tensorboard<2.19,>=2.18->tensorflow-intel==2.18.0->tensorflow) (0.7.2)\n",
      "Requirement already satisfied: werkzeug>=1.0.1 in c:\\users\\yukth\\anaconda3\\lib\\site-packages (from tensorboard<2.19,>=2.18->tensorflow-intel==2.18.0->tensorflow) (3.0.3)\n",
      "Requirement already satisfied: MarkupSafe>=2.1.1 in c:\\users\\yukth\\anaconda3\\lib\\site-packages (from werkzeug>=1.0.1->tensorboard<2.19,>=2.18->tensorflow-intel==2.18.0->tensorflow) (2.1.3)\n",
      "Requirement already satisfied: markdown-it-py>=2.2.0 in c:\\users\\yukth\\anaconda3\\lib\\site-packages (from rich->keras>=3.5.0->tensorflow-intel==2.18.0->tensorflow) (2.2.0)\n",
      "Requirement already satisfied: pygments<3.0.0,>=2.13.0 in c:\\users\\yukth\\anaconda3\\lib\\site-packages (from rich->keras>=3.5.0->tensorflow-intel==2.18.0->tensorflow) (2.15.1)\n",
      "Requirement already satisfied: mdurl~=0.1 in c:\\users\\yukth\\anaconda3\\lib\\site-packages (from markdown-it-py>=2.2.0->rich->keras>=3.5.0->tensorflow-intel==2.18.0->tensorflow) (0.1.0)\n",
      "Note: you may need to restart the kernel to use updated packages.\n"
     ]
    }
   ],
   "source": [
    "pip install tensorflow"
   ]
  },
  {
   "cell_type": "code",
   "execution_count": 27,
   "id": "cba2a381-7d41-45ae-9361-ed63f0a94a58",
   "metadata": {},
   "outputs": [],
   "source": [
    "import pandas as pd\n",
    "from sklearn.feature_extraction.text import TfidfVectorizer\n",
    "from sklearn.metrics.pairwise import cosine_similarity\n",
    "from sklearn.decomposition import TruncatedSVD\n",
    "from sklearn.neighbors import NearestNeighbors\n",
    "from tensorflow.keras.preprocessing.text import Tokenizer\n",
    "from tensorflow.keras.preprocessing.sequence import pad_sequences\n",
    "from tensorflow.keras.models import Sequential\n",
    "from tensorflow.keras.layers import LSTM, Dense, Embedding, Bidirectional\n",
    "import numpy as np"
   ]
  },
  {
   "cell_type": "code",
   "execution_count": 28,
   "id": "1b2d8d76-d1cf-4c6f-a28e-5db8768a0310",
   "metadata": {},
   "outputs": [],
   "source": [
    "df= pd.read_csv(\"C:\\\\Users\\\\yukth\\\\Downloads\\\\Dataset_with_Movie_Ratings.csv\")"
   ]
  },
  {
   "cell_type": "code",
   "execution_count": 29,
   "id": "fc5947f3-c658-4268-ab40-23ca7fd2239f",
   "metadata": {},
   "outputs": [
    {
     "name": "stdout",
     "output_type": "stream",
     "text": [
      "Dataset Info:\n",
      "<class 'pandas.core.frame.DataFrame'>\n",
      "RangeIndex: 1883 entries, 0 to 1882\n",
      "Data columns (total 5 columns):\n",
      " #   Column        Non-Null Count  Dtype \n",
      "---  ------        --------------  ----- \n",
      " 0   Movie_ID      1883 non-null   int64 \n",
      " 1   Title         1883 non-null   object\n",
      " 2   Year          1883 non-null   int64 \n",
      " 3   Genre         1883 non-null   object\n",
      " 4   Movie_Rating  1883 non-null   int64 \n",
      "dtypes: int64(3), object(2)\n",
      "memory usage: 73.7+ KB\n"
     ]
    }
   ],
   "source": [
    "print(\"Dataset Info:\")\n",
    "data_info = data.info()"
   ]
  },
  {
   "cell_type": "code",
   "execution_count": 30,
   "id": "e0b08c86-7972-4925-bf0c-e876c8b67472",
   "metadata": {},
   "outputs": [
    {
     "name": "stdout",
     "output_type": "stream",
     "text": [
      "\n",
      "First 5 rows of the dataset:\n",
      "   Movie_ID         Title  Year     Genre  Movie_Rating\n",
      "0     34759      Aaghaaz   2000  Thriller             3\n",
      "1     34760  Aaj Ka Ravan  2000     Drama             5\n",
      "2     34761       Anjaane  2000   Romance             2\n",
      "3     34762   Anokha Moti  2000    Family             4\n",
      "4     34763  Apradhi Kaun  2000  Thriller             2\n"
     ]
    }
   ],
   "source": [
    "print(\"\\nFirst 5 rows of the dataset:\")\n",
    "data_head = data.head()\n",
    "print(data_head)"
   ]
  },
  {
   "cell_type": "code",
   "execution_count": 31,
   "id": "cf799d9c-1224-48f7-a125-811c9a6aec1f",
   "metadata": {},
   "outputs": [
    {
     "name": "stdout",
     "output_type": "stream",
     "text": [
      "\n",
      "Missing values in each column:\n",
      "Movie_ID        0\n",
      "Title           0\n",
      "Year            0\n",
      "Genre           0\n",
      "Movie_Rating    0\n",
      "dtype: int64\n"
     ]
    }
   ],
   "source": [
    "print(\"\\nMissing values in each column:\")\n",
    "missing_values = data.isnull().sum()\n",
    "print(missing_values)"
   ]
  },
  {
   "cell_type": "code",
   "execution_count": 32,
   "id": "ed7ae24a-8ca7-449d-845b-7fe8723e0e22",
   "metadata": {},
   "outputs": [
    {
     "name": "stdout",
     "output_type": "stream",
     "text": [
      "\n",
      "Summary statistics for numeric columns:\n",
      "           Movie_ID         Year  Movie_Rating\n",
      "count   1883.000000  1883.000000   1883.000000\n",
      "mean   35925.870951  2010.570366      2.976633\n",
      "std      634.243026     5.436594      1.412140\n",
      "min    34759.000000  2000.000000      1.000000\n",
      "25%    35392.000000  2006.000000      2.000000\n",
      "50%    35951.000000  2011.000000      3.000000\n",
      "75%    36464.500000  2015.000000      4.000000\n",
      "max    36972.000000  2019.000000      5.000000\n"
     ]
    }
   ],
   "source": [
    "print(\"\\nSummary statistics for numeric columns:\")\n",
    "summary_stats = data.describe()\n",
    "print(summary_stats)"
   ]
  },
  {
   "cell_type": "code",
   "execution_count": 33,
   "id": "2abfdf7c-81c3-4e49-b568-13235903f108",
   "metadata": {},
   "outputs": [
    {
     "name": "stdout",
     "output_type": "stream",
     "text": [
      "\n",
      "Unique values in the 'Genre' column:\n",
      "['Thriller' 'Drama' 'Romance' 'Family' 'Drama, Social' 'Action'\n",
      " 'Action, Drama' 'Comedy, Drama' 'Comedy' 'Horror' 'Action, Romance'\n",
      " 'Romance, Drama' 'Comedy, Romance' 'Drama, Family, Thriller' 'Crime'\n",
      " 'Comedy, Drama, Romance' 'Comedy, romance' 'Romance, Drama, Musical'\n",
      " 'Action, romance' 'Romance, drama' 'Drama, War, Thriller'\n",
      " 'Drama, Romance, Musical, Family' 'Comedy, Drama, Romance, Musical'\n",
      " 'Comedy, Musical' 'Drama, Romance' 'Thriller, Action, Romance'\n",
      " 'Suspense, Thriller' 'Family Drama' 'Action Comedy'\n",
      " 'Thriller, Suspense, Crime' 'Thriller, Horror' 'History'\n",
      " 'Drama, Romance, Social' 'Drama, Romance, Musical, Social'\n",
      " 'Drama, Comedy, Romance, Musical' 'Drama, War, Romance, Action'\n",
      " 'Action, Drama, Thriller' 'Drama, Romance, Family'\n",
      " 'Drama, Musical, Social' 'Drama, Romance, Musical, Crime'\n",
      " 'Comedy, Family' 'Drama, Romance, Thriller' 'Historical Drama'\n",
      " 'Thriller, Action' 'Historical' 'Action, Thriller' 'Action, Comedy'\n",
      " \"Children's\" 'Comedy, Romance, Crime' 'Crime, Drama'\n",
      " 'Romance, Drama, Musical, Historical' 'Family, Romance, Drama' 'Erotic'\n",
      " 'Thriller, Romance' 'Thriller, Romance, Musical' 'Fantasy'\n",
      " 'Romance, Drama, Comedy' 'Romance, Drama, Comedy, Musical'\n",
      " 'Family, Drama, Social' 'Action, Crime'\n",
      " 'Horror, Thriller, Romance, Musical' 'Drama, Family'\n",
      " 'Drama, Romance, Social, Musical' 'Historical, Drama' 'Musical'\n",
      " 'Drama, Romance, Comedy, Musical' 'Action, Drama, Romance, Thriller'\n",
      " 'Horror, Thriller' 'Action, Drama, Romance' 'Drama, Action, Thriller'\n",
      " 'Drama, Thriller' 'Drama, Musical'\n",
      " 'Drama, Romance, Comedy, Family, Musical, Social'\n",
      " 'Romance, Fantasy, Musical' 'Drama, Romance, Musical'\n",
      " 'War, Drama, Historical' 'Comedy, Social, Musical' 'Adult' 'War, Drama'\n",
      " 'Mystery, Thriller' 'Romance, Comedy' 'Adult Romance' 'Thriller, Drama'\n",
      " 'Fantasy, Thriller' 'Erotic Romance' 'Comedy, Drama, Romance, Family'\n",
      " 'Comedy, Romance, Drama, Musical' 'Adult Drama' 'Adult Comedy'\n",
      " 'War, Drama, Action, Romance' 'Adult Thriller'\n",
      " 'Action, Musical, Drama, Comedy' 'Mystery, Drama'\n",
      " 'Romance, Musical Drama' 'Action, Comedy, Romance'\n",
      " 'Comedy, Romance, Musical' 'Black Comedy' 'Sports Comedy'\n",
      " 'Romantic, Comedy' 'Fantasy Thriller' 'Drama, Romance, Family, Musical'\n",
      " 'Drama, Action' 'Crime / Thriller' 'Romance, Drama, Family'\n",
      " 'Comedy, Crime, Romance, Musical' 'Erotic Drama'\n",
      " 'Action, Thriller, Suspense' 'Erotic Thriller' 'Romantic Comedy'\n",
      " 'Family drama' 'Sports, Drama, Social' 'Erotic, Crime' 'Erotic romance'\n",
      " 'Drama, Historical' 'Romance, Musical' 'Erotic thriller'\n",
      " 'Fantasy, Romance, Musical' 'Romance, Comedy, Drama, Social'\n",
      " 'History, Epic, Romance' 'Fantasy, Comedy' 'Thriller, Mystery'\n",
      " 'Comedy, Romance, Social' 'Drama, Romance, Crime' 'Comedy, Thriller'\n",
      " 'Action, Sports, Romance' 'Drama, Romance, Family, Social'\n",
      " 'Drama, Comedy' 'Drama, Thriller, Business' 'Comedy, Crime'\n",
      " 'Thriller, Action, Romance, Musical' 'Thriller, Action, Drama'\n",
      " 'Drama, Romance, Thriller, Musical' 'Thriller, Comedy'\n",
      " 'Supensene, Thriller, Sci-fi' 'Drama, Romance, Musical, Comedy'\n",
      " 'Comedy, Adult' 'Social, Adult' 'Drama, Thriller, War'\n",
      " 'Drama, Romance, Musical, Comedy, Family, Social'\n",
      " 'Superhero, Action, Fantasy, Romance, Musical' 'Thriller, Fantasy'\n",
      " 'Drama, Social, Action' 'Drama, Patriotic, Social' 'Social, Thriller'\n",
      " 'B-grade' 'Drama, Romance, Social, Historical' 'War'\n",
      " 'Drama, Thriller, Romance' 'Family, Drama, Sports' 'Mythological'\n",
      " 'Mystery, Thriller, Comedy' 'Action, Drama, Romance, Crime'\n",
      " 'Crime Fiction, Drama, Historical' 'Short Film' 'Sports'\n",
      " 'Romance, Comedy, Drama' 'Family, Drama'\n",
      " 'Thriller, Horror, Romance, Mystery' 'Action, Comedy, Romance, Musical'\n",
      " 'Romance, comedy' 'Drama, Romance, Social, Comedy' 'Action, Patriotic'\n",
      " 'Musical, Drama' 'Romance |' 'Action, Romance, Comedy, Drama'\n",
      " 'Drama, romance' 'Cricket' 'Drama, social, musical, romance'\n",
      " 'Action, crime, drama' 'Romance, drama, social' 'Social'\n",
      " 'History, Romance' 'Social, Drama, History' 'Crime, Thriller'\n",
      " 'action, Romance' 'Drama, action, Crime, Thriller, Romance'\n",
      " 'Comedy, Drama, Fantasy' 'action, Crime, Drama, Thriller'\n",
      " 'Drama, Romance, Fantasy' 'Drama, Mystery, Thriller'\n",
      " 'Drama, Musical, Romance' 'Thriler, Spy' 'Adventure'\n",
      " 'action, Comedy, Crime, Romance' 'Musical, Romance, Thriller'\n",
      " 'Adventure, Drama' 'Horror, Mystery, Romance, Thriller'\n",
      " 'Biography, Drama' 'Superhero, action, Adventure, Fantasy'\n",
      " 'Animation, Family, Romance' 'Comedy, Social'\n",
      " 'Comedy, Drama, Musical, Romance' 'Politics'\n",
      " 'Musical, Drama, Romance, Family' 'Romance, Drama, Romance'\n",
      " 'action, Drama, Mystery, Romance, Thriller' 'Animation'\n",
      " 'Drama, Fantasy, Musical' 'Crime, Drama, Mystery' 'Political'\n",
      " 'Action Thriller' 'Romance, Drama, Social, Comedy'\n",
      " 'Action Thriller, Romance' 'Action, comedy, romance' 'Dark comedy'\n",
      " 'Action thriller' 'Romantic comedy, sports' 'Romantic comedy'\n",
      " 'Musical, social, drama, romance' 'Thriller, romance'\n",
      " 'Comedy, thriller, social' 'Drama, family' 'Epic film'\n",
      " 'Comedy, Crime, Romance' 'Action/Thriller' 'Sports/Social'\n",
      " 'Found footage' 'horror' 'Social/Drama' 'Comedy/Romance/Fantasy'\n",
      " 'Romance/Drama' 'Children/Drama' 'Comedy/Romance' 'Thriller/Romance'\n",
      " 'Drama/Political Thriller' 'Action/Romance'\n",
      " 'Action, Romance, Thriller, Crime' 'Political, Comedy'\n",
      " 'Mystery, Suspense' 'Horror/Thriller' 'Biographical'\n",
      " 'Biographical, Animation' 'Action, Adventure' 'Romance / Thriller'\n",
      " 'Period' 'Comedy / Crime' 'Drama Romance' 'Action comedy' 'Animated'\n",
      " 'Social thriller' 'Adult/Comedy/Romance' 'Comedy/Drama/Action'\n",
      " 'Adult/Romance/Comedy' 'Comedy/Comedy/Comedy' 'Cult'\n",
      " 'Thriller/Black comedy' 'Children' 'Mystery/Action'\n",
      " 'Satire/Comedy/Teen film' 'Superhero/Children' 'Drama/Cult'\n",
      " 'Comedy Road movie' 'Teen/Comedy' 'Romance/Comedy' 'Horror/Romance'\n",
      " 'Action/Drama' 'Psychological thriller' 'Drama/Comedy' 'Drama/Thriller'\n",
      " 'Romance/Teen' 'Action/Comedy' 'Romance/Road' 'Comedy/Social'\n",
      " 'Romance/Action' 'Romantic/Comedy' 'Comedy/Action' 'Romantic'\n",
      " 'Romance Comedy Crime' 'Action/Sci-Fi' 'Action/thriller' 'Comedy/Crime'\n",
      " 'Adult/Horror' 'Adult/Romance/Thriller' 'Suspense/Thriller'\n",
      " 'Adult/Thriller' 'Crime/Thriller' 'Romance/Thriller' 'Adult/Action/Crime'\n",
      " 'Computer-Animated' 'Adult/Romantic' 'Action/comedy' 'Political/Thriller'\n",
      " 'Adult/Crime/Thriller' 'Adult/Comedy' 'Thriller/Social'\n",
      " 'Adult/Suspense/Thriller' 'Adult/Drama' 'Rom-Com' 'Computer Animated'\n",
      " 'Political Thriller' 'Thriller/Crime' 'Musical Comedy'\n",
      " 'Animation/Drama/Children' 'Drama/Suspense' 'Thriller/Drama'\n",
      " 'Romance/Crime' 'Animation/Musical' 'Drama/Family' 'Drama/Dance'\n",
      " 'Satire/Comedy' 'Comedy/Satire' 'Musical romance' 'Anthology'\n",
      " 'Children/Animation' 'Zombie comedy' 'Coming of age' 'Drama/Action'\n",
      " 'Romantic drama' 'Romantic thriller' 'Comedy/Thriller' 'Biopic' 'Rom-com'\n",
      " 'Avant-garde' 'Erotic/Thriller' 'Crime/Romance'\n",
      " 'Drama/Espionage thriller' 'Political thriller' 'Adult comedy'\n",
      " 'Rom com/Action' 'Suspense thriller' 'Psychological thriller/Romance'\n",
      " 'War comedy' 'Masala' 'Drama/Biography' 'Political/Drama' 'Crime/Drama'\n",
      " 'Superhero' 'Comedy/Crime/Romance' 'Action/Adventure'\n",
      " 'Black Comedy/Thriller' 'Experimental' 'Action - comedy' 'Drama/Social'\n",
      " 'Documentary' 'Drama/Romance' 'Social/Action' 'Horror Comedy'\n",
      " 'Horror/Adult' 'Sci-fi/Comedy' 'Drama/Fantasy' 'Fantasy/Children'\n",
      " 'Musical/Drama' 'Mystery/Thriller/Drama' 'Mystery' 'Comedy/Drama'\n",
      " 'Comedy/Drama/Romance' 'Dance' 'Social satire' 'Political Satire'\n",
      " 'Found footage / Horror' 'Erotica/Thriller' 'Action/romance'\n",
      " 'Comedy/thriller' 'Romantic/comedy' 'Action/drama' 'Romance/thriller'\n",
      " 'Historical drama' 'Crime/drama' 'Romance/drama' 'Political drama'\n",
      " 'Sci fi/thriller' 'Dance/drama' 'Crime/action' 'Thriller/drama'\n",
      " 'Comedy/drama' 'Spoof, comedy, thriller' 'Romance/comedy' 'Social/comedy'\n",
      " 'Action, comedy, drama' 'Drama/thriller' 'Social/drama' 'Crime/comedy'\n",
      " 'Romantic/drama' 'Crime/thriller' 'Adult/thriller' 'Neo-noir'\n",
      " 'War/Thriller' 'Musical drama' 'Biopic/drama' 'Actiom/drama'\n",
      " 'Drama/comedy' 'Satire' 'Action/thriller/romance' 'Action/drama/thriller'\n",
      " 'Adventure, drama' 'Thriller/horror' 'Action/biopic' 'Comedy/romance'\n",
      " 'Sports/drama' 'Sex comedy/horror' 'Road movie' 'Period drama'\n",
      " 'Superhero/Action/comedy' 'Comedy/sports' 'Biopic/sports' 'Drama/romance'\n",
      " 'Supernatural comedy' 'Animation/comedy/adventure' 'Social drama'\n",
      " 'Comedy thriller' 'Drama/action' 'Romantic/erotic' 'Romantic/horror'\n",
      " 'Crime drama' 'Comedy/crime' 'War/drama' 'Romance/action'\n",
      " 'Anthology/drama' 'Political crime thriller' 'Suspense/Mystery'\n",
      " 'Sex/drama' 'Period drama/action' 'Musical/drama' 'Action/crime Thriller'\n",
      " 'Biographic' 'Road film' 'Social/Comedy' 'Drama/disaster'\n",
      " 'Suspense/thriller' 'Comedy drama' 'Psychological,Thriller'\n",
      " 'Suspense,Thriller' 'drama' 'Comedy,Drama' 'Romantic,Comedy' 'thriller'\n",
      " 'Romantic/ Comedy' 'Satire/ Comedy' 'Action, thriller'\n",
      " 'Romantic,thriller' 'Crime,Drama' 'Horror,Thriller' 'Horror,Comedy'\n",
      " 'Suspense,thriller' 'Romantic,comedy' 'Musical,comedy' 'Crime,Comedy'\n",
      " 'Sports/Drama' 'Action/War' 'Psychological,drama' 'Romantic/Drama'\n",
      " 'Action/Drama/Musical' 'Romance, Social,Drama' 'romance,comedy'\n",
      " 'Comedy, Romance, Drama' 'Action,Thriller' 'Romance,Family,Drama'\n",
      " 'action/adventure' 'Adult-comedy' 'Biography,Drama' 'comedy'\n",
      " 'Drama/ Coming of Age' 'Drama /Thriller' 'Social ,Drama'\n",
      " 'Drama/historical' 'Period drama / thriller' 'Drama/ Thriller'\n",
      " 'Action ,Thriller' 'Romance, thriller' 'crime, thriller' 'Romance,drama'\n",
      " 'Horror Thriller' 'Historical/Romance' 'Action/battle' 'Crime,Thriller']\n"
     ]
    }
   ],
   "source": [
    "print(\"\\nUnique values in the 'Genre' column:\")\n",
    "unique_genres = data['Genre'].unique()\n",
    "print(unique_genres)"
   ]
  },
  {
   "cell_type": "code",
   "execution_count": 34,
   "id": "077187d6-799d-45f9-b84c-889850a0caf2",
   "metadata": {},
   "outputs": [],
   "source": [
    "missing_values = data.isnull().sum()"
   ]
  },
  {
   "cell_type": "code",
   "execution_count": 35,
   "id": "06ad8fc7-bc37-4651-82ec-ea25fdc4936d",
   "metadata": {},
   "outputs": [
    {
     "name": "stdout",
     "output_type": "stream",
     "text": [
      "Missing values:\n",
      "Movie_ID        0\n",
      "Title           0\n",
      "Year            0\n",
      "Genre           0\n",
      "Movie_Rating    0\n",
      "dtype: int64\n"
     ]
    }
   ],
   "source": [
    "print(\"Missing values:\")\n",
    "print(missing_values)\n"
   ]
  },
  {
   "cell_type": "code",
   "execution_count": 36,
   "id": "501aa3d7-1bad-433d-b038-0d54fd3efe2a",
   "metadata": {},
   "outputs": [],
   "source": [
    "tfidf_vectorizer = TfidfVectorizer(stop_words='english')\n",
    "tfidf_matrix = tfidf_vectorizer.fit_transform(data['Genre'])"
   ]
  },
  {
   "cell_type": "code",
   "execution_count": 37,
   "id": "1db74d4e-5353-4c97-a5b6-88fc30bfa005",
   "metadata": {},
   "outputs": [],
   "source": [
    "def recommend_svd(title, top_n=10):\n",
    "    \"\"\"\n",
    "    Recommend movies using SVD-based latent semantic analysis.\n",
    "\n",
    "    Parameters:\n",
    "    - title (str): Input movie title.\n",
    "    - top_n (int): Number of recommendations to return.\n",
    "\n",
    "    Returns:\n",
    "    - List of recommended movie titles.\n",
    "    \"\"\"\n",
    "    if title not in data['Title'].values:\n",
    "        return f\"Error: Movie title '{title}' not found in the dataset.\"\n",
    "    \n",
    "    # Apply Truncated SVD\n",
    "    n_components = 50\n",
    "    svd = TruncatedSVD(n_components=n_components, random_state=42)\n",
    "    svd_matrix = svd.fit_transform(tfidf_matrix)\n",
    "    \n",
    "    # Compute cosine similarity\n",
    "    cosine_sim = cosine_similarity(svd_matrix, svd_matrix)\n",
    "    \n",
    "    # Get the input movie index\n",
    "    idx = data.index[data['Title'] == title].tolist()[0]\n",
    "    \n",
    "    # Sort by similarity scores\n",
    "    sim_scores = list(enumerate(cosine_sim[idx]))\n",
    "    sim_scores = sorted(sim_scores, key=lambda x: x[1], reverse=True)\n",
    "    \n",
    "    # Get top-n similar movie indices\n",
    "    movie_indices = [i[0] for i in sim_scores[1:top_n + 1]]\n",
    "    return data['Title'].iloc[movie_indices].tolist()"
   ]
  },
  {
   "cell_type": "code",
   "execution_count": 38,
   "id": "65eeb896-ef55-4eec-99da-5645bc5040ac",
   "metadata": {},
   "outputs": [],
   "source": [
    "def recommend_knn(title, top_n=10):\n",
    "    \"\"\"\n",
    "    Recommend movies using KNN based on TF-IDF vector space.\n",
    "\n",
    "    Parameters:\n",
    "    - title (str): Input movie title.\n",
    "    - top_n (int): Number of recommendations to return.\n",
    "\n",
    "    Returns:\n",
    "    - List of recommended movie titles.\n",
    "    \"\"\"\n",
    "    if title not in data['Title'].values:\n",
    "        return f\"Error: Movie title '{title}' not found in the dataset.\"\n",
    "    \n",
    "    # Fit the KNN model\n",
    "    knn = NearestNeighbors(metric='cosine', algorithm='brute')\n",
    "    knn.fit(tfidf_matrix)\n",
    "    \n",
    "    # Get the input movie index\n",
    "    idx = data.index[data['Title'] == title].tolist()[0]\n",
    "    \n",
    "    # Find nearest neighbors\n",
    "    distances, indices = knn.kneighbors(tfidf_matrix[idx], n_neighbors=top_n + 1)\n",
    "    \n",
    "    # Return recommended movie titles (excluding the input movie)\n",
    "    recommended = data.iloc[indices[0][1:]].Title.tolist()\n",
    "    return recommended\n"
   ]
  },
  {
   "cell_type": "code",
   "execution_count": 39,
   "id": "c24336ce-64f5-47fe-aac3-b69f93067257",
   "metadata": {},
   "outputs": [
    {
     "name": "stdout",
     "output_type": "stream",
     "text": [
      "Welcome to the Movie Recommendation System!\n",
      "1. KNN Recommendations\n",
      "2. SVD Recommendations\n"
     ]
    },
    {
     "name": "stdin",
     "output_type": "stream",
     "text": [
      "Choose a recommendation method (1 or 2):  1\n",
      "Enter the title of a movie:  Good News\n"
     ]
    },
    {
     "name": "stdout",
     "output_type": "stream",
     "text": [
      "KNN Recommendations:\n",
      "['99\\n', 'Dhoondte Reh Jaaoge\\n', 'Hey Bro', 'Welcome To New York', 'Little Zizou\\n', 'Main Madhuri Dixit Banna Chahti Hoon', 'Lottery\\n', 'Praan Jaye Par Shaan Na Jaye', 'Paying Guests', 'Raja Abroadiya']\n"
     ]
    }
   ],
   "source": [
    "def user_input_recommendation():\n",
    "    \n",
    "    print(\"Welcome to the Movie Recommendation System!\")\n",
    "    print(\"1. KNN Recommendations\")\n",
    "    print(\"2. SVD Recommendations\")\n",
    "    \n",
    "    # Get user choice\n",
    "    choice = input(\"Choose a recommendation method (1 or 2): \").strip()\n",
    "    \n",
    "    # Get movie title input\n",
    "    movie_title = input(\"Enter the title of a movie: \").strip()\n",
    "    \n",
    "    # Handle recommendations based on user choice\n",
    "    if choice == \"1\":\n",
    "        print(\"KNN Recommendations:\")\n",
    "        print(recommend_knn(movie_title))\n",
    "    elif choice == \"2\":\n",
    "        print(\"SVD Recommendations:\")\n",
    "        print(recommend_svd(movie_title))\n",
    "    else:\n",
    "        print(\"Invalid choice. Please enter 1 or 2.\")\n",
    "\n",
    "# Call the user interaction function\n",
    "user_input_recommendation()\n"
   ]
  },
  {
   "cell_type": "code",
   "execution_count": 40,
   "id": "2d39cab7-8337-4242-bf81-30a709a5320e",
   "metadata": {},
   "outputs": [],
   "source": [
    "def recommend_by_year(year):\n",
    "    \"\"\"Returns a list of movies released in the given year, sorted by rating.\"\"\"\n",
    "    recommendations = df[df['Year'] == year].sort_values(by='Movie_Rating', ascending=False)\n",
    "    if recommendations.empty:\n",
    "        return \"No recommendations available for this year.\"\n",
    "    return recommendations[['Title', 'Movie_Rating']].to_string(index=False)"
   ]
  },
  {
   "cell_type": "code",
   "execution_count": 41,
   "id": "488051e8-a7b4-491b-8d41-072b6d1fb31a",
   "metadata": {},
   "outputs": [
    {
     "name": "stdout",
     "output_type": "stream",
     "text": [
      "Welcome to the Movie Recommendation System!\n",
      "1. KNN Recommendations\n",
      "2. SVD Recommendations\n",
      "3. Recommendations by Year\n"
     ]
    },
    {
     "name": "stdin",
     "output_type": "stream",
     "text": [
      "Choose a recommendation method (1, 2, or 3):  3\n",
      "Enter the release year of movies you want recommendations for:  2003\n"
     ]
    },
    {
     "name": "stdout",
     "output_type": "stream",
     "text": [
      "Recommendations for movies released in 2003:\n"
     ]
    },
    {
     "ename": "NameError",
     "evalue": "name 'df' is not defined",
     "output_type": "error",
     "traceback": [
      "\u001b[1;31m---------------------------------------------------------------------------\u001b[0m",
      "\u001b[1;31mNameError\u001b[0m                                 Traceback (most recent call last)",
      "Cell \u001b[1;32mIn[41], line 28\u001b[0m\n\u001b[0;32m     25\u001b[0m         \u001b[38;5;28mprint\u001b[39m(\u001b[38;5;124m\"\u001b[39m\u001b[38;5;124mInvalid choice. Please enter 1, 2, or 3.\u001b[39m\u001b[38;5;124m\"\u001b[39m)\n\u001b[0;32m     27\u001b[0m \u001b[38;5;66;03m# Call the user interaction function\u001b[39;00m\n\u001b[1;32m---> 28\u001b[0m user_input_recommendation()\n",
      "Cell \u001b[1;32mIn[41], line 21\u001b[0m, in \u001b[0;36muser_input_recommendation\u001b[1;34m()\u001b[0m\n\u001b[0;32m     19\u001b[0m     year \u001b[38;5;241m=\u001b[39m \u001b[38;5;28mint\u001b[39m(\u001b[38;5;28minput\u001b[39m(\u001b[38;5;124m\"\u001b[39m\u001b[38;5;124mEnter the release year of movies you want recommendations for: \u001b[39m\u001b[38;5;124m\"\u001b[39m)\u001b[38;5;241m.\u001b[39mstrip())\n\u001b[0;32m     20\u001b[0m     \u001b[38;5;28mprint\u001b[39m(\u001b[38;5;124mf\u001b[39m\u001b[38;5;124m\"\u001b[39m\u001b[38;5;124mRecommendations for movies released in \u001b[39m\u001b[38;5;132;01m{\u001b[39;00myear\u001b[38;5;132;01m}\u001b[39;00m\u001b[38;5;124m:\u001b[39m\u001b[38;5;124m\"\u001b[39m)\n\u001b[1;32m---> 21\u001b[0m     \u001b[38;5;28mprint\u001b[39m(recommend_by_year(year))\n\u001b[0;32m     22\u001b[0m \u001b[38;5;28;01mexcept\u001b[39;00m \u001b[38;5;167;01mValueError\u001b[39;00m:\n\u001b[0;32m     23\u001b[0m     \u001b[38;5;28mprint\u001b[39m(\u001b[38;5;124m\"\u001b[39m\u001b[38;5;124mInvalid year. Please enter a valid number.\u001b[39m\u001b[38;5;124m\"\u001b[39m)\n",
      "Cell \u001b[1;32mIn[40], line 3\u001b[0m, in \u001b[0;36mrecommend_by_year\u001b[1;34m(year)\u001b[0m\n\u001b[0;32m      1\u001b[0m \u001b[38;5;28;01mdef\u001b[39;00m \u001b[38;5;21mrecommend_by_year\u001b[39m(year):\n\u001b[0;32m      2\u001b[0m \u001b[38;5;250m    \u001b[39m\u001b[38;5;124;03m\"\"\"Returns a list of movies released in the given year, sorted by rating.\"\"\"\u001b[39;00m\n\u001b[1;32m----> 3\u001b[0m     recommendations \u001b[38;5;241m=\u001b[39m df[df[\u001b[38;5;124m'\u001b[39m\u001b[38;5;124mYear\u001b[39m\u001b[38;5;124m'\u001b[39m] \u001b[38;5;241m==\u001b[39m year]\u001b[38;5;241m.\u001b[39msort_values(by\u001b[38;5;241m=\u001b[39m\u001b[38;5;124m'\u001b[39m\u001b[38;5;124mMovie_Rating\u001b[39m\u001b[38;5;124m'\u001b[39m, ascending\u001b[38;5;241m=\u001b[39m\u001b[38;5;28;01mFalse\u001b[39;00m)\n\u001b[0;32m      4\u001b[0m     \u001b[38;5;28;01mif\u001b[39;00m recommendations\u001b[38;5;241m.\u001b[39mempty:\n\u001b[0;32m      5\u001b[0m         \u001b[38;5;28;01mreturn\u001b[39;00m \u001b[38;5;124m\"\u001b[39m\u001b[38;5;124mNo recommendations available for this year.\u001b[39m\u001b[38;5;124m\"\u001b[39m\n",
      "\u001b[1;31mNameError\u001b[0m: name 'df' is not defined"
     ]
    }
   ],
   "source": [
    "def user_input_recommendation():\n",
    "    print(\"Welcome to the Movie Recommendation System!\")\n",
    "    print(\"1. KNN Recommendations\")\n",
    "    print(\"2. SVD Recommendations\")\n",
    "    print(\"3. Recommendations by Year\")\n",
    "    \n",
    "    choice = input(\"Choose a recommendation method (1, 2, or 3): \").strip()\n",
    "    \n",
    "    if choice in [\"1\", \"2\"]:\n",
    "        movie_title = input(\"Enter the title of a movie: \").strip()\n",
    "        if choice == \"1\":\n",
    "            print(\"KNN Recommendations:\")\n",
    "            print(recommend_knn(movie_title))\n",
    "        elif choice == \"2\":\n",
    "            print(\"SVD Recommendations:\")\n",
    "            print(recommend_svd(movie_title))\n",
    "    elif choice == \"3\":\n",
    "        try:\n",
    "            year = int(input(\"Enter the release year of movies you want recommendations for: \").strip())\n",
    "            print(f\"Recommendations for movies released in {year}:\")\n",
    "            print(recommend_by_year(year))\n",
    "        except ValueError:\n",
    "            print(\"Invalid year. Please enter a valid number.\")\n",
    "    else:\n",
    "        print(\"Invalid choice. Please enter 1, 2, or 3.\")\n",
    "\n",
    "# Call the user interaction function\n",
    "user_input_recommendation()"
   ]
  },
  {
   "cell_type": "code",
   "execution_count": null,
   "id": "bd3d9a37-dc60-4a5e-951d-3f21e6368b4d",
   "metadata": {},
   "outputs": [],
   "source": []
  }
 ],
 "metadata": {
  "kernelspec": {
   "display_name": "Python 3 (ipykernel)",
   "language": "python",
   "name": "python3"
  },
  "language_info": {
   "codemirror_mode": {
    "name": "ipython",
    "version": 3
   },
   "file_extension": ".py",
   "mimetype": "text/x-python",
   "name": "python",
   "nbconvert_exporter": "python",
   "pygments_lexer": "ipython3",
   "version": "3.12.7"
  }
 },
 "nbformat": 4,
 "nbformat_minor": 5
}
